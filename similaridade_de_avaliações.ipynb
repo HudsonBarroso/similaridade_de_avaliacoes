{
 "cells": [
  {
   "cell_type": "code",
   "execution_count": 1,
   "metadata": {
    "id": "M6kacAvbmVDT"
   },
   "outputs": [],
   "source": [
    "from math import sqrt"
   ]
  },
  {
   "cell_type": "code",
   "execution_count": 5,
   "metadata": {
    "id": "i1RezqOvp_zW"
   },
   "outputs": [],
   "source": [
    "conteudo = open('avaliacoes.json').read()\n",
    "import json\n",
    "avaliacoes = json.loads(conteudo)"
   ]
  },
  {
   "cell_type": "code",
   "execution_count": 6,
   "metadata": {
    "colab": {
     "base_uri": "https://localhost:8080/"
    },
    "id": "XxqA8BXNqRpN",
    "outputId": "8b43783b-b7d2-4471-e582-cf1f9e7ab521"
   },
   "outputs": [
    {
     "name": "stdout",
     "output_type": "stream",
     "text": [
      "{\n",
      "   \"Rubens V. Martins\": {\n",
      "      \"Um Corpo que Cai\": 4,\n",
      "      \"Scarface\": 4.5,\n",
      "      \"Touro Indomavel\": 3.0,\n",
      "      \"Os Bons Companheiros\": 4.5,\n",
      "      \"Se Meu Apartamento Falasse\": 1.0\n",
      "   },\n",
      "   \"Roberto C. Garcia\": {\n",
      "      \"Um Corpo que Cai\": 3.0,\n",
      "      \"Scarface\": 1.5,\n",
      "      \"Touro Indomavel\": 1.0,\n",
      "      \"Os Bons Companheiros\": 2.0,\n",
      "      \"Se Meu Apartamento Falasse\": 5.0,\n",
      "      \"A Princesa e o Plebeu\": 4.5\n",
      "   },\n",
      "   \"Denis E. Barreto\": {\n",
      "      \"Um Corpo que Cai\": 4.5,\n",
      "      \"Scarface\": 5.0,\n",
      "      \"Os Bons Companheiros\": 4.5,\n",
      "      \"Se Meu Apartamento Falasse\": 1.0\n",
      "   },\n",
      "   \"Susan R. da Silva\": {\n",
      "      \"Scarface\": 3.5,\n",
      "      \"Touro Indomavel\": 5.0,\n",
      "      \"Se Meu Apartamento Falasse\": 1.0,\n",
      "      \"Os Bons Companheiros\": 5.0,\n",
      "      \"A Princesa e o Plebeu\": 1.0\n",
      "   },\n",
      "   \"Julia F. Barbosa\": {\n",
      "      \"Scarface\": 2.5,\n",
      "      \"A Princesa e o Plebeu\": 4.5,\n",
      "      \"Os Bons Companheiros\": 3.0\n",
      "   },\n",
      "   \"Adriano K. Lopes\": {\n",
      "      \"Um Corpo que Cai\": 5.0,\n",
      "      \"Scarface\": 4.5,\n",
      "      \"Touro Indomavel\": 4.0,\n",
      "      \"Os Bons Companheiros\": 2.5,\n",
      "      \"Se Meu Apartamento Falasse\": 1.0,\n",
      "      \"A Princesa e o Plebeu\": 1.5\n",
      "   },\n",
      "   \"Eduardo B. Machado\": {\n",
      "      \"Um Corpo que Cai\": 3.5,\n",
      "      \"Scarface\": 3.0,\n",
      "      \"Se Meu Apartamento Falasse\": 1.0,\n",
      "      \"Os Bons Companheiros\": 4.5,\n",
      "      \"A Princesa e o Plebeu\": 3.0\n",
      "   },\n",
      "   \"Rebeca A. Pereira\": {\n",
      "      \"Se Meu Apartamento Falasse\": 1.5,\n",
      "      \"Touro Indomavel\": 4.5\n",
      "   }\n",
      "}\n"
     ]
    }
   ],
   "source": [
    "print(json.dumps(avaliacoes, indent=3))"
   ]
  },
  {
   "cell_type": "code",
   "execution_count": 22,
   "metadata": {
    "colab": {
     "base_uri": "https://localhost:8080/"
    },
    "id": "QL14zWIXrdVv",
    "outputId": "070f350f-44a8-4317-932d-9990f3f90c84"
   },
   "outputs": [
    {
     "name": "stdout",
     "output_type": "stream",
     "text": [
      "{\n",
      "   \"Um Corpo que Cai\": {\n",
      "      \"Rubens V. Martins\": 4,\n",
      "      \"Roberto C. Garcia\": 3.0,\n",
      "      \"Denis E. Barreto\": 4.5,\n",
      "      \"Adriano K. Lopes\": 5.0,\n",
      "      \"Eduardo B. Machado\": 3.5\n",
      "   },\n",
      "   \"Scarface\": {\n",
      "      \"Rubens V. Martins\": 4.5,\n",
      "      \"Roberto C. Garcia\": 1.5,\n",
      "      \"Denis E. Barreto\": 5.0,\n",
      "      \"Susan R. da Silva\": 3.5,\n",
      "      \"Julia F. Barbosa\": 2.5,\n",
      "      \"Adriano K. Lopes\": 4.5,\n",
      "      \"Eduardo B. Machado\": 3.0\n",
      "   },\n",
      "   \"Touro Indomavel\": {\n",
      "      \"Rubens V. Martins\": 3.0,\n",
      "      \"Roberto C. Garcia\": 1.0,\n",
      "      \"Susan R. da Silva\": 5.0,\n",
      "      \"Adriano K. Lopes\": 4.0,\n",
      "      \"Rebeca A. Pereira\": 4.5\n",
      "   },\n",
      "   \"Os Bons Companheiros\": {\n",
      "      \"Rubens V. Martins\": 4.5,\n",
      "      \"Roberto C. Garcia\": 2.0,\n",
      "      \"Denis E. Barreto\": 4.5,\n",
      "      \"Susan R. da Silva\": 5.0,\n",
      "      \"Julia F. Barbosa\": 3.0,\n",
      "      \"Adriano K. Lopes\": 2.5,\n",
      "      \"Eduardo B. Machado\": 4.5\n",
      "   },\n",
      "   \"Se Meu Apartamento Falasse\": {\n",
      "      \"Rubens V. Martins\": 1.0,\n",
      "      \"Roberto C. Garcia\": 5.0,\n",
      "      \"Denis E. Barreto\": 1.0,\n",
      "      \"Susan R. da Silva\": 1.0,\n",
      "      \"Adriano K. Lopes\": 1.0,\n",
      "      \"Eduardo B. Machado\": 1.0,\n",
      "      \"Rebeca A. Pereira\": 1.5\n",
      "   },\n",
      "   \"A Princesa e o Plebeu\": {\n",
      "      \"Roberto C. Garcia\": 4.5,\n",
      "      \"Susan R. da Silva\": 1.0,\n",
      "      \"Julia F. Barbosa\": 4.5,\n",
      "      \"Adriano K. Lopes\": 1.5,\n",
      "      \"Eduardo B. Machado\": 3.0\n",
      "   }\n",
      "}\n"
     ]
    }
   ],
   "source": [
    "from similares import inverte\n",
    "from similares import sim_euclidiana\n",
    "from similares import sim_manhattan\n",
    "from similares import sim_pearson\n",
    "print(json.dumps(inverte(avaliacoes), indent=3))"
   ]
  },
  {
   "cell_type": "code",
   "execution_count": 17,
   "metadata": {
    "colab": {
     "base_uri": "https://localhost:8080/"
    },
    "id": "1KqOk-tpsUgP",
    "outputId": "9b1a7088-82df-44f3-81ed-f791e446ce84"
   },
   "outputs": [
    {
     "data": {
      "text/plain": [
       "0.585786437626905"
      ]
     },
     "execution_count": 17,
     "metadata": {},
     "output_type": "execute_result"
    }
   ],
   "source": [
    "# Função de similaridade euclidiana para medir a similaridade entre ‘Rubens V. Martins’ e ‘Denis E. Barreto’.\n",
    "sim_euclidiana(avaliacoes, \"Rubens V. Martins\", \"Denis E. Barreto\")"
   ]
  },
  {
   "cell_type": "markdown",
   "metadata": {
    "id": "5jBHX7sXwbpF"
   },
   "source": [
    "### 1. Obter as três pessoas mais similares a “Adriano K. Lopes”, usando a função de similaridade sim_manhattan;"
   ]
  },
  {
   "cell_type": "code",
   "execution_count": 18,
   "metadata": {
    "colab": {
     "base_uri": "https://localhost:8080/"
    },
    "id": "wXg7DaGswkND",
    "outputId": "a9dcf03a-2a21-4d83-c680-b35fd61ed28c"
   },
   "outputs": [
    {
     "data": {
      "text/plain": [
       "[(0.5, 'Rebeca A. Pereira'),\n",
       " (0.25, 'Denis E. Barreto'),\n",
       " (0.2, 'Rubens V. Martins')]"
      ]
     },
     "execution_count": 18,
     "metadata": {},
     "output_type": "execute_result"
    }
   ],
   "source": [
    "# Obter as três pessoas mais similares a ‘Adriano K. Lopes’, usando a similaridade sim_manhattan\n",
    "top_similares(avaliacoes, 'Adriano K. Lopes', 3, sim_manhattan)"
   ]
  },
  {
   "cell_type": "code",
   "execution_count": 19,
   "metadata": {
    "colab": {
     "base_uri": "https://localhost:8080/"
    },
    "id": "Mg2BUXmeuYhY",
    "outputId": "e610658c-f0e2-437d-c6b7-16150b9a837f"
   },
   "outputs": [
    {
     "data": {
      "text/plain": [
       "[(0.585786437626905, 'Denis E. Barreto'),\n",
       " (0.38742588672279304, 'Rebeca A. Pereira')]"
      ]
     },
     "execution_count": 19,
     "metadata": {},
     "output_type": "execute_result"
    }
   ],
   "source": [
    "# Obter as duas pessoas mais similares a ‘Rubens V. Martins’, usando a similaridade euclidiana\n",
    "top_similares(avaliacoes, 'Rubens V. Martins', 2, sim_euclidiana)"
   ]
  },
  {
   "cell_type": "code",
   "execution_count": 20,
   "metadata": {
    "colab": {
     "base_uri": "https://localhost:8080/"
    },
    "id": "SNSlCdTZvY8t",
    "outputId": "2b6e4cd6-b7be-41e5-d66d-b8589bca73e3"
   },
   "outputs": [
    {
     "data": {
      "text/plain": [
       "[(0.3567891723253309, 'Um Corpo que Cai'),\n",
       " (0.3090169943749474, 'Touro Indomavel')]"
      ]
     },
     "execution_count": 20,
     "metadata": {},
     "output_type": "execute_result"
    }
   ],
   "source": [
    "# Identificar os dois filmes mais similares a 'Scarface'\n",
    "top_similares(inverte(avaliacoes), 'Scarface', 2, sim_euclidiana)"
   ]
  },
  {
   "cell_type": "markdown",
   "metadata": {
    "id": "M1hOvCxLxMW6"
   },
   "source": [
    "### 2. Obter o filme mais similar ao filme “A Princesa e o Plebeu”, usando a função de similaridade sim_pearson."
   ]
  },
  {
   "cell_type": "code",
   "execution_count": 27,
   "metadata": {
    "colab": {
     "base_uri": "https://localhost:8080/"
    },
    "id": "0AjM1pJCxRq2",
    "outputId": "47de6604-82ff-4668-f607-9a02c748b16a"
   },
   "outputs": [
    {
     "data": {
      "text/plain": [
       "[(0.8432740427115678, 'Se Meu Apartamento Falasse')]"
      ]
     },
     "execution_count": 27,
     "metadata": {},
     "output_type": "execute_result"
    }
   ],
   "source": [
    "#Identificar o filme mais similar a 'A Princesa e o Plebeu'\n",
    "top_similares(inverte(avaliacoes), 'A Princesa e o Plebeu', 1, sim_pearson)"
   ]
  },
  {
   "cell_type": "code",
   "execution_count": 25,
   "metadata": {
    "id": "3uDaMP-_wT_H"
   },
   "outputs": [
    {
     "data": {
      "text/plain": [
       "[(0.585786437626905, 'Denis E. Barreto'),\n",
       " (0.38742588672279304, 'Rebeca A. Pereira')]"
      ]
     },
     "execution_count": 25,
     "metadata": {},
     "output_type": "execute_result"
    }
   ],
   "source": [
    "# Obter as duas pessoas mais similares a ‘Rubens V. Martins’, usando a similaridade euclidiana\n",
    "top_similares(avaliacoes, 'Rubens V. Martins', 2, sim_euclidiana)"
   ]
  },
  {
   "cell_type": "code",
   "execution_count": 26,
   "metadata": {
    "id": "GQP5ckmunfi9"
   },
   "outputs": [],
   "source": [
    "def sim_euclidiana(avaliacoes, c1, c2):\n",
    "  mesmos_filmes = {}\n",
    "  for filme in avaliacoes[c1]:\n",
    "    if filme in avaliacoes[c2]:\n",
    "      mesmos_filmes[filme] = 1\n",
    "  if len(mesmos_filmes) == 0: \n",
    "    return 0\n",
    "  dist_euclidiana = sqrt(sum([pow((avaliacoes[c1][filme] - avaliacoes[c2][filme]), 2) for filme in mesmos_filmes]))\n",
    "  return 1 / (1 + dist_euclidiana)\n",
    "\n",
    "def sim_manhattan(avaliacoes, c1, c2):\n",
    "  mesmos_filmes = {}\n",
    "  for filme in avaliacoes[c1]:\n",
    "    if filme in avaliacoes[c2]:\n",
    "      mesmos_filmes[filme] = 1\n",
    "  if len(mesmos_filmes) == 0: \n",
    "    return 0    \n",
    "  dist_manhattan = sum([abs(avaliacoes[c1][filme] - avaliacoes[c2][filme]) for filme in mesmos_filmes])\n",
    "  return 1 / (1 + dist_manhattan)\n",
    "\n",
    "def sim_pearson(avaliacoes, c1, c2):\n",
    "  mesmos_filmes = {}\n",
    "  for filme in avaliacoes[c1]:\n",
    "    if filme in avaliacoes[c2]:\n",
    "      mesmos_filmes[filme] = 1\n",
    "      n = len(mesmos_filmes)\n",
    "  if n == 0: \n",
    "    return 0\n",
    "  media_c1 = sum([avaliacoes[c1][filme] for filme in mesmos_filmes]) / n\n",
    "  media_c2 = sum([avaliacoes[c2][filme] for filme in mesmos_filmes]) / n\n",
    "  numerador = sum([((avaliacoes[c1][filme] - media_c1) * (avaliacoes[c2][filme] - media_c2)) for filme in mesmos_filmes])\n",
    "  denominador = sqrt(sum([pow((avaliacoes[c1][filme] - media_c1), 2) for filme in mesmos_filmes])\n",
    "  * sum([pow((avaliacoes[c2][filme] - media_c2), 2) for filme in mesmos_filmes]))\n",
    "  if denominador == 0: \n",
    "    return 0\n",
    "  r = numerador / denominador\n",
    "  return r\n",
    "\n",
    "def top_similares(avaliacoes, pessoa, n = 1, medida = sim_euclidiana):\n",
    "  valores = [(medida(avaliacoes, pessoa, outra), outra) for outra in avaliacoes if outra != pessoa]\n",
    "  valores.sort()\n",
    "  valores.reverse()\n",
    "  return valores[0:n]\n",
    "\n",
    "def inverte(avaliacoes):\n",
    "  resultado = {}\n",
    "  for pessoa in avaliacoes:\n",
    "    for filme in avaliacoes[pessoa]:\n",
    "      resultado.setdefault(filme, {})\n",
    "      resultado[filme][pessoa] = avaliacoes[pessoa][filme]\n",
    "  return resultado"
   ]
  },
  {
   "cell_type": "code",
   "execution_count": null,
   "metadata": {
    "id": "NGdcdcPQqQBu"
   },
   "outputs": [],
   "source": []
  }
 ],
 "metadata": {
  "colab": {
   "collapsed_sections": [],
   "name": "algorítimos de similaridade",
   "provenance": []
  },
  "kernelspec": {
   "display_name": "Python 3",
   "language": "python",
   "name": "python3"
  },
  "language_info": {
   "codemirror_mode": {
    "name": "ipython",
    "version": 3
   },
   "file_extension": ".py",
   "mimetype": "text/x-python",
   "name": "python",
   "nbconvert_exporter": "python",
   "pygments_lexer": "ipython3",
   "version": "3.8.8"
  }
 },
 "nbformat": 4,
 "nbformat_minor": 1
}
